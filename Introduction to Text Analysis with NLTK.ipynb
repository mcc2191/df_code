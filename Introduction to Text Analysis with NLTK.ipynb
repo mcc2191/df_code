{
 "cells": [
  {
   "cell_type": "markdown",
   "metadata": {},
   "source": [
    "## Greetings!  What are we doing here today!\n",
    "First of all, if you don't yet have Python or NLTK installed\n",
    "- Conda install!  (anaconda)\n",
    "- Install NLTK\n",
    "- Once you have installed NLTK, install the corpora that come with NLTK - we will be using these for the workshop today"
   ]
  },
  {
   "cell_type": "markdown",
   "metadata": {},
   "source": [
    "### \"Introduction to Text Analysis with NLTK\"\n",
    "- What does that mean, exactly?  Let's break it down!"
   ]
  },
  {
   "cell_type": "markdown",
   "metadata": {},
   "source": [
    "## Text Analysis\n",
    "- There is a tremendous amount of textual data\n",
    "    - Books, news articles, medical documentation, tweets, and everything in between\n",
    "- More and more, this textual information is available online\n",
    "    - In downloadable / scrapable / otherwise accessible formats\n",
    "    - And more text content is being created all the time (thank you, Internet!)\n",
    "- It is understandable that there is a lot that we would want to take advantage of this available text data to learn things from it\n"
   ]
  },
  {
   "cell_type": "code",
   "execution_count": 1,
   "metadata": {
    "collapsed": false
   },
   "outputs": [
    {
     "name": "stdout",
     "output_type": "stream",
     "text": [
      "showing info https://raw.githubusercontent.com/nltk/nltk_data/gh-pages/index.xml\n"
     ]
    },
    {
     "data": {
      "text/plain": [
       "True"
      ]
     },
     "execution_count": 1,
     "metadata": {},
     "output_type": "execute_result"
    }
   ],
   "source": [
    "import nltk\n",
    "nltk.download()"
   ]
  },
  {
   "cell_type": "markdown",
   "metadata": {},
   "source": [
    "## Natural Language Processing\n",
    "- Text Analysis overlaps partially with the field of Natural Lanugage Processing \n",
    "    - The study of how we get computers to process natural language\n",
    "        - A 'natural' language is a lanugage people actually speak; English, French, Mandarin, etc.\n",
    "        - Natural languages are complex and not particularly logical\n",
    " "
   ]
  },
  {
   "cell_type": "markdown",
   "metadata": {},
   "source": [
    "## Tasks within Natural Language Processing that involve some kind of text analysis\n",
    "\n",
    "- Sentiment Analysis\n",
    "- Information Extraction\n",
    "- Automatic Summerization\n",
    "- Authorship Identification\n",
    "- Search\n",
    "- Trend tracking\n",
    "- To name simply a few!!!!\n",
    "\n",
    "There is a tremendous amount that you can do with skills and tools for text analysis\n"
   ]
  },
  {
   "cell_type": "markdown",
   "metadata": {},
   "source": [
    "## NLTK\n",
    "- The Natural Language ToolKit\n",
    "- A package for the Python programming language that provides users with tools for text analysis\n",
    "- Premade tools, so you don't have to make them yourself!!\n",
    "- Today I will give an overview of several of the tools that NLTK provides for text analysis\n",
    "    - The goal of this workshop is to introduce you to these tools, and show examples of how they are used\n",
    "    - Feel free to code along!"
   ]
  },
  {
   "cell_type": "markdown",
   "metadata": {},
   "source": [
    "## Word Concordnce"
   ]
  },
  {
   "cell_type": "code",
   "execution_count": 2,
   "metadata": {
    "collapsed": false
   },
   "outputs": [],
   "source": [
    "from nltk.corpus import brown"
   ]
  },
  {
   "cell_type": "code",
   "execution_count": 1,
   "metadata": {
    "collapsed": false,
    "scrolled": true
   },
   "outputs": [
    {
     "name": "stdout",
     "output_type": "stream",
     "text": [
      "*** Introductory Examples for the NLTK Book ***\n",
      "Loading text1, ..., text9 and sent1, ..., sent9\n",
      "Type the name of the text or sentence to view it.\n",
      "Type: 'texts()' or 'sents()' to list the materials.\n",
      "text1: Moby Dick by Herman Melville 1851\n",
      "text2: Sense and Sensibility by Jane Austen 1811\n",
      "text3: The Book of Genesis\n",
      "text4: Inaugural Address Corpus\n",
      "text5: Chat Corpus\n",
      "text6: Monty Python and the Holy Grail\n",
      "text7: Wall Street Journal\n",
      "text8: Personals Corpus\n",
      "text9: The Man Who Was Thursday by G . K . Chesterton 1908\n"
     ]
    }
   ],
   "source": [
    "from nltk.book import *"
   ]
  },
  {
   "cell_type": "code",
   "execution_count": 5,
   "metadata": {
    "collapsed": false
   },
   "outputs": [
    {
     "name": "stdout",
     "output_type": "stream",
     "text": [
      "[u'In', u'the', u'beginning', u'God', u'created', u'the', u'heaven', u'and', u'the', u'earth', u'.', u'And', u'the', u'earth', u'was', u'without', u'form', u',', u'and', u'void', u';', u'and', u'darkness', u'was', u'upon', u'the', u'face', u'of', u'the', u'deep', u'.', u'And', u'the', u'Spirit', u'of', u'God', u'moved', u'upon', u'the', u'face', u'of', u'the', u'waters', u'.', u'And', u'God', u'said', u',', u'Let', u'there', u'be', u'light', u':', u'and', u'there', u'was', u'light', u'.', u'And', u'God', u'saw', u'the', u'light', u',', u'that', u'it', u'was', u'good', u':', u'and', u'God', u'divided', u'the', u'light', u'from', u'the', u'darkness', u'.', u'And', u'God', u'called', u'the', u'light', u'Day', u',', u'and', u'the', u'darkness', u'he', u'called', u'Night', u'.', u'And', u'the', u'evening', u'and', u'the', u'morning', u'were', u'the']\n"
     ]
    }
   ],
   "source": [
    "print text3[:100]\n",
    "#print (text3[:100])"
   ]
  },
  {
   "cell_type": "code",
   "execution_count": 6,
   "metadata": {
    "collapsed": false
   },
   "outputs": [
    {
     "name": "stdout",
     "output_type": "stream",
     "text": [
      "Displaying 25 of 90 matches:\n",
      "e .\" -- IBID . \" HISTORY OF LIFE AND DEATH .\" \" The sovereignest thing on earth\n",
      " BLACKSTONE . \" Soon to the sport of death the crews repair : Rodmond unerring \n",
      " both sides , and of which the wight Death is the only glazier .\" True enough ,\n",
      "al and savage could ever have gone a death - harvesting with such a hacking , h\n",
      "arly sells the sailors deliriums and death . Abominable are the tumblers into w\n",
      "ed me tightly , as though naught but death should part us twain . I now strove \n",
      "why the Life Insurance Companies pay death - forfeitures upon immortals ; in wh\n",
      " immortal by brevet . Yes , there is death in this business of whaling -- a spe\n",
      "ely mistaken this matter of Life and Death . Methinks that what they call my sh\n",
      " him , as over the man who bleeds to death , for conscience is the wound , and \n",
      "leg , what it is to have the fear of death ; how , then , can ' st thou prate i\n",
      "in Ahab , did ' st thou not think of Death and the Judgment then ?\" \" Hear him \n",
      "ent we thought the ship would sink ! Death and the Judgment then ? What ? With \n",
      "ng over us , fore and aft . Think of Death and the Judgment then ? No ! no time\n",
      "t then ? No ! no time to think about Death then . Life was what Captain Ahab an\n",
      "han to have left undone ; if , at my death , my executors , or more properly my\n",
      "hen close to the whale , in the very death - lock of the fight , he handled his\n",
      "r this Stubb , converted the jaws of death into an easy chair . What he thought\n",
      "o an easy chair . What he thought of death itself , there is no telling . Wheth\n",
      "has to do with aught that looks like death . Among sea - commanders , the old g\n",
      " till the mighty brute is worried to death . The Killer is never hunted . I nev\n",
      "tails like a split jib in a squall . Death and devils ! men , it is Moby Dick y\n",
      "is crooked jaw , and for the jaws of Death too , Captain Ahab , if it fairly co\n",
      "an the deathful whaleboat ' s bow -- Death to Moby Dick ! God hunt us all , if \n",
      ", if we do not hunt Moby Dick to his death !\" The long , barbed steel goblets w\n",
      "\n"
     ]
    }
   ],
   "source": [
    "word = \"death\"\n",
    "text1.concordance(word)\n",
    "print "
   ]
  },
  {
   "cell_type": "code",
   "execution_count": 8,
   "metadata": {
    "collapsed": false
   },
   "outputs": [
    {
     "name": "stdout",
     "output_type": "stream",
     "text": [
      "Displaying 7 of 7 matches:\n",
      "sh for she said , Let me not see the death of the child . And she sat over agai\n",
      "c was comforted after his mother ' s death . Then again Abraham took a wife , a\n",
      "wife . And it came to pass after the death of Abraham , that God blessed his so\n",
      "n or his wife shall surely be put to death . Then Isaac sowed in that land , an\n",
      "ilistines had stopped them after the death of Abrah and he called their names a\n",
      "bless thee before the LORD before my death . Now therefore , my son , obey my v\n",
      "nd that he may bless thee before his death . And Jacob said to Rebekah his moth\n",
      "\n",
      "Displaying 10 of 10 matches:\n",
      " ?! OLD MAN : Seek you the Bridge of Death . ARTHUR : The Bridge of Death , whi\n",
      "ge of Death . ARTHUR : The Bridge of Death , which leads to the Grail ? OLD MAN\n",
      "son Herbert , has just fallen to his death . GUESTS : Oh ! Oh no ! FATHER : But\n",
      "p clap clap ] For , since the tragic death of her father -- GUEST # 2 : He ' s \n",
      "over , suddenly felt the icy hand of death upon him . BRIDE ' S FATHER : Uugh !\n",
      "our strength , come no further , for death awaits you all with nasty , big , po\n",
      "There it is ! ARTHUR : The Bridge of Death ! ROBIN : Oh , great . ARTHUR : Look\n",
      " : He is the keeper of the Bridge of Death . He asks each traveller five questi\n",
      "Stop ! Who would cross the Bridge of Death must answer me these questions three\n",
      "Stop ! Who approacheth the Bridge of Death must answer me these questions three\n",
      "None\n"
     ]
    }
   ],
   "source": [
    "text3.concordance(word)\n",
    "print \n",
    "\n",
    "grail_death = text6.concordance(word)\n",
    "print grail_death"
   ]
  },
  {
   "cell_type": "markdown",
   "metadata": {},
   "source": [
    "## What if we want to see words that appear in similar contexts?"
   ]
  },
  {
   "cell_type": "code",
   "execution_count": 9,
   "metadata": {
    "collapsed": false
   },
   "outputs": [
    {
     "name": "stdout",
     "output_type": "stream",
     "text": [
      "it all life him them whales me hand days nantucket man that ahab by\n",
      "mouth eyes more whale see chase\n",
      "king arimathea minutes sir science assyria caerbannog uuggggggh where\n"
     ]
    }
   ],
   "source": [
    "text1.similar(\"death\")\n",
    "## returns words that appear in a \"similar\" context\n",
    "text6.similar(\"death\")"
   ]
  },
  {
   "cell_type": "code",
   "execution_count": 10,
   "metadata": {
    "collapsed": false
   },
   "outputs": [
    {
     "name": "stdout",
     "output_type": "stream",
     "text": [
      "a_sharp a_large and_soon a_little be_much\n"
     ]
    }
   ],
   "source": [
    "text1.common_contexts([\"pretty\", \"very\"])\n",
    "#requires a list as an argument"
   ]
  },
  {
   "cell_type": "markdown",
   "metadata": {},
   "source": [
    "## What if we want to see where words appear in a text?"
   ]
  },
  {
   "cell_type": "code",
   "execution_count": 14,
   "metadata": {
    "collapsed": false
   },
   "outputs": [
    {
     "data": {
      "application/javascript": [
       "/* Put everything inside the global mpl namespace */\n",
       "window.mpl = {};\n",
       "\n",
       "mpl.get_websocket_type = function() {\n",
       "    if (typeof(WebSocket) !== 'undefined') {\n",
       "        return WebSocket;\n",
       "    } else if (typeof(MozWebSocket) !== 'undefined') {\n",
       "        return MozWebSocket;\n",
       "    } else {\n",
       "        alert('Your browser does not have WebSocket support.' +\n",
       "              'Please try Chrome, Safari or Firefox ≥ 6. ' +\n",
       "              'Firefox 4 and 5 are also supported but you ' +\n",
       "              'have to enable WebSockets in about:config.');\n",
       "    };\n",
       "}\n",
       "\n",
       "mpl.figure = function(figure_id, websocket, ondownload, parent_element) {\n",
       "    this.id = figure_id;\n",
       "\n",
       "    this.ws = websocket;\n",
       "\n",
       "    this.supports_binary = (this.ws.binaryType != undefined);\n",
       "\n",
       "    if (!this.supports_binary) {\n",
       "        var warnings = document.getElementById(\"mpl-warnings\");\n",
       "        if (warnings) {\n",
       "            warnings.style.display = 'block';\n",
       "            warnings.textContent = (\n",
       "                \"This browser does not support binary websocket messages. \" +\n",
       "                    \"Performance may be slow.\");\n",
       "        }\n",
       "    }\n",
       "\n",
       "    this.imageObj = new Image();\n",
       "\n",
       "    this.context = undefined;\n",
       "    this.message = undefined;\n",
       "    this.canvas = undefined;\n",
       "    this.rubberband_canvas = undefined;\n",
       "    this.rubberband_context = undefined;\n",
       "    this.format_dropdown = undefined;\n",
       "\n",
       "    this.image_mode = 'full';\n",
       "\n",
       "    this.root = $('<div/>');\n",
       "    this._root_extra_style(this.root)\n",
       "    this.root.attr('style', 'display: inline-block');\n",
       "\n",
       "    $(parent_element).append(this.root);\n",
       "\n",
       "    this._init_header(this);\n",
       "    this._init_canvas(this);\n",
       "    this._init_toolbar(this);\n",
       "\n",
       "    var fig = this;\n",
       "\n",
       "    this.waiting = false;\n",
       "\n",
       "    this.ws.onopen =  function () {\n",
       "            fig.send_message(\"supports_binary\", {value: fig.supports_binary});\n",
       "            fig.send_message(\"send_image_mode\", {});\n",
       "            fig.send_message(\"refresh\", {});\n",
       "        }\n",
       "\n",
       "    this.imageObj.onload = function() {\n",
       "            if (fig.image_mode == 'full') {\n",
       "                // Full images could contain transparency (where diff images\n",
       "                // almost always do), so we need to clear the canvas so that\n",
       "                // there is no ghosting.\n",
       "                fig.context.clearRect(0, 0, fig.canvas.width, fig.canvas.height);\n",
       "            }\n",
       "            fig.context.drawImage(fig.imageObj, 0, 0);\n",
       "        };\n",
       "\n",
       "    this.imageObj.onunload = function() {\n",
       "        this.ws.close();\n",
       "    }\n",
       "\n",
       "    this.ws.onmessage = this._make_on_message_function(this);\n",
       "\n",
       "    this.ondownload = ondownload;\n",
       "}\n",
       "\n",
       "mpl.figure.prototype._init_header = function() {\n",
       "    var titlebar = $(\n",
       "        '<div class=\"ui-dialog-titlebar ui-widget-header ui-corner-all ' +\n",
       "        'ui-helper-clearfix\"/>');\n",
       "    var titletext = $(\n",
       "        '<div class=\"ui-dialog-title\" style=\"width: 100%; ' +\n",
       "        'text-align: center; padding: 3px;\"/>');\n",
       "    titlebar.append(titletext)\n",
       "    this.root.append(titlebar);\n",
       "    this.header = titletext[0];\n",
       "}\n",
       "\n",
       "\n",
       "\n",
       "mpl.figure.prototype._canvas_extra_style = function(canvas_div) {\n",
       "\n",
       "}\n",
       "\n",
       "\n",
       "mpl.figure.prototype._root_extra_style = function(canvas_div) {\n",
       "\n",
       "}\n",
       "\n",
       "mpl.figure.prototype._init_canvas = function() {\n",
       "    var fig = this;\n",
       "\n",
       "    var canvas_div = $('<div/>');\n",
       "\n",
       "    canvas_div.attr('style', 'position: relative; clear: both; outline: 0');\n",
       "\n",
       "    function canvas_keyboard_event(event) {\n",
       "        return fig.key_event(event, event['data']);\n",
       "    }\n",
       "\n",
       "    canvas_div.keydown('key_press', canvas_keyboard_event);\n",
       "    canvas_div.keyup('key_release', canvas_keyboard_event);\n",
       "    this.canvas_div = canvas_div\n",
       "    this._canvas_extra_style(canvas_div)\n",
       "    this.root.append(canvas_div);\n",
       "\n",
       "    var canvas = $('<canvas/>');\n",
       "    canvas.addClass('mpl-canvas');\n",
       "    canvas.attr('style', \"left: 0; top: 0; z-index: 0; outline: 0\")\n",
       "\n",
       "    this.canvas = canvas[0];\n",
       "    this.context = canvas[0].getContext(\"2d\");\n",
       "\n",
       "    var rubberband = $('<canvas/>');\n",
       "    rubberband.attr('style', \"position: absolute; left: 0; top: 0; z-index: 1;\")\n",
       "\n",
       "    var pass_mouse_events = true;\n",
       "\n",
       "    canvas_div.resizable({\n",
       "        start: function(event, ui) {\n",
       "            pass_mouse_events = false;\n",
       "        },\n",
       "        resize: function(event, ui) {\n",
       "            fig.request_resize(ui.size.width, ui.size.height);\n",
       "        },\n",
       "        stop: function(event, ui) {\n",
       "            pass_mouse_events = true;\n",
       "            fig.request_resize(ui.size.width, ui.size.height);\n",
       "        },\n",
       "    });\n",
       "\n",
       "    function mouse_event_fn(event) {\n",
       "        if (pass_mouse_events)\n",
       "            return fig.mouse_event(event, event['data']);\n",
       "    }\n",
       "\n",
       "    rubberband.mousedown('button_press', mouse_event_fn);\n",
       "    rubberband.mouseup('button_release', mouse_event_fn);\n",
       "    // Throttle sequential mouse events to 1 every 20ms.\n",
       "    rubberband.mousemove('motion_notify', mouse_event_fn);\n",
       "\n",
       "    rubberband.mouseenter('figure_enter', mouse_event_fn);\n",
       "    rubberband.mouseleave('figure_leave', mouse_event_fn);\n",
       "\n",
       "    canvas_div.on(\"wheel\", function (event) {\n",
       "        event = event.originalEvent;\n",
       "        event['data'] = 'scroll'\n",
       "        if (event.deltaY < 0) {\n",
       "            event.step = 1;\n",
       "        } else {\n",
       "            event.step = -1;\n",
       "        }\n",
       "        mouse_event_fn(event);\n",
       "    });\n",
       "\n",
       "    canvas_div.append(canvas);\n",
       "    canvas_div.append(rubberband);\n",
       "\n",
       "    this.rubberband = rubberband;\n",
       "    this.rubberband_canvas = rubberband[0];\n",
       "    this.rubberband_context = rubberband[0].getContext(\"2d\");\n",
       "    this.rubberband_context.strokeStyle = \"#000000\";\n",
       "\n",
       "    this._resize_canvas = function(width, height) {\n",
       "        // Keep the size of the canvas, canvas container, and rubber band\n",
       "        // canvas in synch.\n",
       "        canvas_div.css('width', width)\n",
       "        canvas_div.css('height', height)\n",
       "\n",
       "        canvas.attr('width', width);\n",
       "        canvas.attr('height', height);\n",
       "\n",
       "        rubberband.attr('width', width);\n",
       "        rubberband.attr('height', height);\n",
       "    }\n",
       "\n",
       "    // Set the figure to an initial 600x600px, this will subsequently be updated\n",
       "    // upon first draw.\n",
       "    this._resize_canvas(600, 600);\n",
       "\n",
       "    // Disable right mouse context menu.\n",
       "    $(this.rubberband_canvas).bind(\"contextmenu\",function(e){\n",
       "        return false;\n",
       "    });\n",
       "\n",
       "    function set_focus () {\n",
       "        canvas.focus();\n",
       "        canvas_div.focus();\n",
       "    }\n",
       "\n",
       "    window.setTimeout(set_focus, 100);\n",
       "}\n",
       "\n",
       "mpl.figure.prototype._init_toolbar = function() {\n",
       "    var fig = this;\n",
       "\n",
       "    var nav_element = $('<div/>')\n",
       "    nav_element.attr('style', 'width: 100%');\n",
       "    this.root.append(nav_element);\n",
       "\n",
       "    // Define a callback function for later on.\n",
       "    function toolbar_event(event) {\n",
       "        return fig.toolbar_button_onclick(event['data']);\n",
       "    }\n",
       "    function toolbar_mouse_event(event) {\n",
       "        return fig.toolbar_button_onmouseover(event['data']);\n",
       "    }\n",
       "\n",
       "    for(var toolbar_ind in mpl.toolbar_items) {\n",
       "        var name = mpl.toolbar_items[toolbar_ind][0];\n",
       "        var tooltip = mpl.toolbar_items[toolbar_ind][1];\n",
       "        var image = mpl.toolbar_items[toolbar_ind][2];\n",
       "        var method_name = mpl.toolbar_items[toolbar_ind][3];\n",
       "\n",
       "        if (!name) {\n",
       "            // put a spacer in here.\n",
       "            continue;\n",
       "        }\n",
       "        var button = $('<button/>');\n",
       "        button.addClass('ui-button ui-widget ui-state-default ui-corner-all ' +\n",
       "                        'ui-button-icon-only');\n",
       "        button.attr('role', 'button');\n",
       "        button.attr('aria-disabled', 'false');\n",
       "        button.click(method_name, toolbar_event);\n",
       "        button.mouseover(tooltip, toolbar_mouse_event);\n",
       "\n",
       "        var icon_img = $('<span/>');\n",
       "        icon_img.addClass('ui-button-icon-primary ui-icon');\n",
       "        icon_img.addClass(image);\n",
       "        icon_img.addClass('ui-corner-all');\n",
       "\n",
       "        var tooltip_span = $('<span/>');\n",
       "        tooltip_span.addClass('ui-button-text');\n",
       "        tooltip_span.html(tooltip);\n",
       "\n",
       "        button.append(icon_img);\n",
       "        button.append(tooltip_span);\n",
       "\n",
       "        nav_element.append(button);\n",
       "    }\n",
       "\n",
       "    var fmt_picker_span = $('<span/>');\n",
       "\n",
       "    var fmt_picker = $('<select/>');\n",
       "    fmt_picker.addClass('mpl-toolbar-option ui-widget ui-widget-content');\n",
       "    fmt_picker_span.append(fmt_picker);\n",
       "    nav_element.append(fmt_picker_span);\n",
       "    this.format_dropdown = fmt_picker[0];\n",
       "\n",
       "    for (var ind in mpl.extensions) {\n",
       "        var fmt = mpl.extensions[ind];\n",
       "        var option = $(\n",
       "            '<option/>', {selected: fmt === mpl.default_extension}).html(fmt);\n",
       "        fmt_picker.append(option)\n",
       "    }\n",
       "\n",
       "    // Add hover states to the ui-buttons\n",
       "    $( \".ui-button\" ).hover(\n",
       "        function() { $(this).addClass(\"ui-state-hover\");},\n",
       "        function() { $(this).removeClass(\"ui-state-hover\");}\n",
       "    );\n",
       "\n",
       "    var status_bar = $('<span class=\"mpl-message\"/>');\n",
       "    nav_element.append(status_bar);\n",
       "    this.message = status_bar[0];\n",
       "}\n",
       "\n",
       "mpl.figure.prototype.request_resize = function(x_pixels, y_pixels) {\n",
       "    // Request matplotlib to resize the figure. Matplotlib will then trigger a resize in the client,\n",
       "    // which will in turn request a refresh of the image.\n",
       "    this.send_message('resize', {'width': x_pixels, 'height': y_pixels});\n",
       "}\n",
       "\n",
       "mpl.figure.prototype.send_message = function(type, properties) {\n",
       "    properties['type'] = type;\n",
       "    properties['figure_id'] = this.id;\n",
       "    this.ws.send(JSON.stringify(properties));\n",
       "}\n",
       "\n",
       "mpl.figure.prototype.send_draw_message = function() {\n",
       "    if (!this.waiting) {\n",
       "        this.waiting = true;\n",
       "        this.ws.send(JSON.stringify({type: \"draw\", figure_id: this.id}));\n",
       "    }\n",
       "}\n",
       "\n",
       "\n",
       "mpl.figure.prototype.handle_save = function(fig, msg) {\n",
       "    var format_dropdown = fig.format_dropdown;\n",
       "    var format = format_dropdown.options[format_dropdown.selectedIndex].value;\n",
       "    fig.ondownload(fig, format);\n",
       "}\n",
       "\n",
       "\n",
       "mpl.figure.prototype.handle_resize = function(fig, msg) {\n",
       "    var size = msg['size'];\n",
       "    if (size[0] != fig.canvas.width || size[1] != fig.canvas.height) {\n",
       "        fig._resize_canvas(size[0], size[1]);\n",
       "        fig.send_message(\"refresh\", {});\n",
       "    };\n",
       "}\n",
       "\n",
       "mpl.figure.prototype.handle_rubberband = function(fig, msg) {\n",
       "    var x0 = msg['x0'];\n",
       "    var y0 = fig.canvas.height - msg['y0'];\n",
       "    var x1 = msg['x1'];\n",
       "    var y1 = fig.canvas.height - msg['y1'];\n",
       "    x0 = Math.floor(x0) + 0.5;\n",
       "    y0 = Math.floor(y0) + 0.5;\n",
       "    x1 = Math.floor(x1) + 0.5;\n",
       "    y1 = Math.floor(y1) + 0.5;\n",
       "    var min_x = Math.min(x0, x1);\n",
       "    var min_y = Math.min(y0, y1);\n",
       "    var width = Math.abs(x1 - x0);\n",
       "    var height = Math.abs(y1 - y0);\n",
       "\n",
       "    fig.rubberband_context.clearRect(\n",
       "        0, 0, fig.canvas.width, fig.canvas.height);\n",
       "\n",
       "    fig.rubberband_context.strokeRect(min_x, min_y, width, height);\n",
       "}\n",
       "\n",
       "mpl.figure.prototype.handle_figure_label = function(fig, msg) {\n",
       "    // Updates the figure title.\n",
       "    fig.header.textContent = msg['label'];\n",
       "}\n",
       "\n",
       "mpl.figure.prototype.handle_cursor = function(fig, msg) {\n",
       "    var cursor = msg['cursor'];\n",
       "    switch(cursor)\n",
       "    {\n",
       "    case 0:\n",
       "        cursor = 'pointer';\n",
       "        break;\n",
       "    case 1:\n",
       "        cursor = 'default';\n",
       "        break;\n",
       "    case 2:\n",
       "        cursor = 'crosshair';\n",
       "        break;\n",
       "    case 3:\n",
       "        cursor = 'move';\n",
       "        break;\n",
       "    }\n",
       "    fig.rubberband_canvas.style.cursor = cursor;\n",
       "}\n",
       "\n",
       "mpl.figure.prototype.handle_message = function(fig, msg) {\n",
       "    fig.message.textContent = msg['message'];\n",
       "}\n",
       "\n",
       "mpl.figure.prototype.handle_draw = function(fig, msg) {\n",
       "    // Request the server to send over a new figure.\n",
       "    fig.send_draw_message();\n",
       "}\n",
       "\n",
       "mpl.figure.prototype.handle_image_mode = function(fig, msg) {\n",
       "    fig.image_mode = msg['mode'];\n",
       "}\n",
       "\n",
       "mpl.figure.prototype.updated_canvas_event = function() {\n",
       "    // Called whenever the canvas gets updated.\n",
       "    this.send_message(\"ack\", {});\n",
       "}\n",
       "\n",
       "// A function to construct a web socket function for onmessage handling.\n",
       "// Called in the figure constructor.\n",
       "mpl.figure.prototype._make_on_message_function = function(fig) {\n",
       "    return function socket_on_message(evt) {\n",
       "        if (evt.data instanceof Blob) {\n",
       "            /* FIXME: We get \"Resource interpreted as Image but\n",
       "             * transferred with MIME type text/plain:\" errors on\n",
       "             * Chrome.  But how to set the MIME type?  It doesn't seem\n",
       "             * to be part of the websocket stream */\n",
       "            evt.data.type = \"image/png\";\n",
       "\n",
       "            /* Free the memory for the previous frames */\n",
       "            if (fig.imageObj.src) {\n",
       "                (window.URL || window.webkitURL).revokeObjectURL(\n",
       "                    fig.imageObj.src);\n",
       "            }\n",
       "\n",
       "            fig.imageObj.src = (window.URL || window.webkitURL).createObjectURL(\n",
       "                evt.data);\n",
       "            fig.updated_canvas_event();\n",
       "            fig.waiting = false;\n",
       "            return;\n",
       "        }\n",
       "        else if (typeof evt.data === 'string' && evt.data.slice(0, 21) == \"data:image/png;base64\") {\n",
       "            fig.imageObj.src = evt.data;\n",
       "            fig.updated_canvas_event();\n",
       "            fig.waiting = false;\n",
       "            return;\n",
       "        }\n",
       "\n",
       "        var msg = JSON.parse(evt.data);\n",
       "        var msg_type = msg['type'];\n",
       "\n",
       "        // Call the  \"handle_{type}\" callback, which takes\n",
       "        // the figure and JSON message as its only arguments.\n",
       "        try {\n",
       "            var callback = fig[\"handle_\" + msg_type];\n",
       "        } catch (e) {\n",
       "            console.log(\"No handler for the '\" + msg_type + \"' message type: \", msg);\n",
       "            return;\n",
       "        }\n",
       "\n",
       "        if (callback) {\n",
       "            try {\n",
       "                // console.log(\"Handling '\" + msg_type + \"' message: \", msg);\n",
       "                callback(fig, msg);\n",
       "            } catch (e) {\n",
       "                console.log(\"Exception inside the 'handler_\" + msg_type + \"' callback:\", e, e.stack, msg);\n",
       "            }\n",
       "        }\n",
       "    };\n",
       "}\n",
       "\n",
       "// from http://stackoverflow.com/questions/1114465/getting-mouse-location-in-canvas\n",
       "mpl.findpos = function(e) {\n",
       "    //this section is from http://www.quirksmode.org/js/events_properties.html\n",
       "    var targ;\n",
       "    if (!e)\n",
       "        e = window.event;\n",
       "    if (e.target)\n",
       "        targ = e.target;\n",
       "    else if (e.srcElement)\n",
       "        targ = e.srcElement;\n",
       "    if (targ.nodeType == 3) // defeat Safari bug\n",
       "        targ = targ.parentNode;\n",
       "\n",
       "    // jQuery normalizes the pageX and pageY\n",
       "    // pageX,Y are the mouse positions relative to the document\n",
       "    // offset() returns the position of the element relative to the document\n",
       "    var x = e.pageX - $(targ).offset().left;\n",
       "    var y = e.pageY - $(targ).offset().top;\n",
       "\n",
       "    return {\"x\": x, \"y\": y};\n",
       "};\n",
       "\n",
       "/*\n",
       " * return a copy of an object with only non-object keys\n",
       " * we need this to avoid circular references\n",
       " * http://stackoverflow.com/a/24161582/3208463\n",
       " */\n",
       "function simpleKeys (original) {\n",
       "  return Object.keys(original).reduce(function (obj, key) {\n",
       "    if (typeof original[key] !== 'object')\n",
       "        obj[key] = original[key]\n",
       "    return obj;\n",
       "  }, {});\n",
       "}\n",
       "\n",
       "mpl.figure.prototype.mouse_event = function(event, name) {\n",
       "    var canvas_pos = mpl.findpos(event)\n",
       "\n",
       "    if (name === 'button_press')\n",
       "    {\n",
       "        this.canvas.focus();\n",
       "        this.canvas_div.focus();\n",
       "    }\n",
       "\n",
       "    var x = canvas_pos.x;\n",
       "    var y = canvas_pos.y;\n",
       "\n",
       "    this.send_message(name, {x: x, y: y, button: event.button,\n",
       "                             step: event.step,\n",
       "                             guiEvent: simpleKeys(event)});\n",
       "\n",
       "    /* This prevents the web browser from automatically changing to\n",
       "     * the text insertion cursor when the button is pressed.  We want\n",
       "     * to control all of the cursor setting manually through the\n",
       "     * 'cursor' event from matplotlib */\n",
       "    event.preventDefault();\n",
       "    return false;\n",
       "}\n",
       "\n",
       "mpl.figure.prototype._key_event_extra = function(event, name) {\n",
       "    // Handle any extra behaviour associated with a key event\n",
       "}\n",
       "\n",
       "mpl.figure.prototype.key_event = function(event, name) {\n",
       "\n",
       "    // Prevent repeat events\n",
       "    if (name == 'key_press')\n",
       "    {\n",
       "        if (event.which === this._key)\n",
       "            return;\n",
       "        else\n",
       "            this._key = event.which;\n",
       "    }\n",
       "    if (name == 'key_release')\n",
       "        this._key = null;\n",
       "\n",
       "    var value = '';\n",
       "    if (event.ctrlKey && event.which != 17)\n",
       "        value += \"ctrl+\";\n",
       "    if (event.altKey && event.which != 18)\n",
       "        value += \"alt+\";\n",
       "    if (event.shiftKey && event.which != 16)\n",
       "        value += \"shift+\";\n",
       "\n",
       "    value += 'k';\n",
       "    value += event.which.toString();\n",
       "\n",
       "    this._key_event_extra(event, name);\n",
       "\n",
       "    this.send_message(name, {key: value,\n",
       "                             guiEvent: simpleKeys(event)});\n",
       "    return false;\n",
       "}\n",
       "\n",
       "mpl.figure.prototype.toolbar_button_onclick = function(name) {\n",
       "    if (name == 'download') {\n",
       "        this.handle_save(this, null);\n",
       "    } else {\n",
       "        this.send_message(\"toolbar_button\", {name: name});\n",
       "    }\n",
       "};\n",
       "\n",
       "mpl.figure.prototype.toolbar_button_onmouseover = function(tooltip) {\n",
       "    this.message.textContent = tooltip;\n",
       "};\n",
       "mpl.toolbar_items = [[\"Home\", \"Reset original view\", \"fa fa-home icon-home\", \"home\"], [\"Back\", \"Back to  previous view\", \"fa fa-arrow-left icon-arrow-left\", \"back\"], [\"Forward\", \"Forward to next view\", \"fa fa-arrow-right icon-arrow-right\", \"forward\"], [\"\", \"\", \"\", \"\"], [\"Pan\", \"Pan axes with left mouse, zoom with right\", \"fa fa-arrows icon-move\", \"pan\"], [\"Zoom\", \"Zoom to rectangle\", \"fa fa-square-o icon-check-empty\", \"zoom\"], [\"\", \"\", \"\", \"\"], [\"Download\", \"Download plot\", \"fa fa-floppy-o icon-save\", \"download\"]];\n",
       "\n",
       "mpl.extensions = [\"eps\", \"jpeg\", \"pdf\", \"png\", \"ps\", \"raw\", \"svg\", \"tif\"];\n",
       "\n",
       "mpl.default_extension = \"png\";var comm_websocket_adapter = function(comm) {\n",
       "    // Create a \"websocket\"-like object which calls the given IPython comm\n",
       "    // object with the appropriate methods. Currently this is a non binary\n",
       "    // socket, so there is still some room for performance tuning.\n",
       "    var ws = {};\n",
       "\n",
       "    ws.close = function() {\n",
       "        comm.close()\n",
       "    };\n",
       "    ws.send = function(m) {\n",
       "        //console.log('sending', m);\n",
       "        comm.send(m);\n",
       "    };\n",
       "    // Register the callback with on_msg.\n",
       "    comm.on_msg(function(msg) {\n",
       "        //console.log('receiving', msg['content']['data'], msg);\n",
       "        // Pass the mpl event to the overriden (by mpl) onmessage function.\n",
       "        ws.onmessage(msg['content']['data'])\n",
       "    });\n",
       "    return ws;\n",
       "}\n",
       "\n",
       "mpl.mpl_figure_comm = function(comm, msg) {\n",
       "    // This is the function which gets called when the mpl process\n",
       "    // starts-up an IPython Comm through the \"matplotlib\" channel.\n",
       "\n",
       "    var id = msg.content.data.id;\n",
       "    // Get hold of the div created by the display call when the Comm\n",
       "    // socket was opened in Python.\n",
       "    var element = $(\"#\" + id);\n",
       "    var ws_proxy = comm_websocket_adapter(comm)\n",
       "\n",
       "    function ondownload(figure, format) {\n",
       "        window.open(figure.imageObj.src);\n",
       "    }\n",
       "\n",
       "    var fig = new mpl.figure(id, ws_proxy,\n",
       "                           ondownload,\n",
       "                           element.get(0));\n",
       "\n",
       "    // Call onopen now - mpl needs it, as it is assuming we've passed it a real\n",
       "    // web socket which is closed, not our websocket->open comm proxy.\n",
       "    ws_proxy.onopen();\n",
       "\n",
       "    fig.parent_element = element.get(0);\n",
       "    fig.cell_info = mpl.find_output_cell(\"<div id='\" + id + \"'></div>\");\n",
       "    if (!fig.cell_info) {\n",
       "        console.error(\"Failed to find cell for figure\", id, fig);\n",
       "        return;\n",
       "    }\n",
       "\n",
       "    var output_index = fig.cell_info[2]\n",
       "    var cell = fig.cell_info[0];\n",
       "\n",
       "};\n",
       "\n",
       "mpl.figure.prototype.handle_close = function(fig, msg) {\n",
       "    fig.root.unbind('remove')\n",
       "\n",
       "    // Update the output cell to use the data from the current canvas.\n",
       "    fig.push_to_output();\n",
       "    var dataURL = fig.canvas.toDataURL();\n",
       "    // Re-enable the keyboard manager in IPython - without this line, in FF,\n",
       "    // the notebook keyboard shortcuts fail.\n",
       "    IPython.keyboard_manager.enable()\n",
       "    $(fig.parent_element).html('<img src=\"' + dataURL + '\">');\n",
       "    fig.close_ws(fig, msg);\n",
       "}\n",
       "\n",
       "mpl.figure.prototype.close_ws = function(fig, msg){\n",
       "    fig.send_message('closing', msg);\n",
       "    // fig.ws.close()\n",
       "}\n",
       "\n",
       "mpl.figure.prototype.push_to_output = function(remove_interactive) {\n",
       "    // Turn the data on the canvas into data in the output cell.\n",
       "    var dataURL = this.canvas.toDataURL();\n",
       "    this.cell_info[1]['text/html'] = '<img src=\"' + dataURL + '\">';\n",
       "}\n",
       "\n",
       "mpl.figure.prototype.updated_canvas_event = function() {\n",
       "    // Tell IPython that the notebook contents must change.\n",
       "    IPython.notebook.set_dirty(true);\n",
       "    this.send_message(\"ack\", {});\n",
       "    var fig = this;\n",
       "    // Wait a second, then push the new image to the DOM so\n",
       "    // that it is saved nicely (might be nice to debounce this).\n",
       "    setTimeout(function () { fig.push_to_output() }, 1000);\n",
       "}\n",
       "\n",
       "mpl.figure.prototype._init_toolbar = function() {\n",
       "    var fig = this;\n",
       "\n",
       "    var nav_element = $('<div/>')\n",
       "    nav_element.attr('style', 'width: 100%');\n",
       "    this.root.append(nav_element);\n",
       "\n",
       "    // Define a callback function for later on.\n",
       "    function toolbar_event(event) {\n",
       "        return fig.toolbar_button_onclick(event['data']);\n",
       "    }\n",
       "    function toolbar_mouse_event(event) {\n",
       "        return fig.toolbar_button_onmouseover(event['data']);\n",
       "    }\n",
       "\n",
       "    for(var toolbar_ind in mpl.toolbar_items){\n",
       "        var name = mpl.toolbar_items[toolbar_ind][0];\n",
       "        var tooltip = mpl.toolbar_items[toolbar_ind][1];\n",
       "        var image = mpl.toolbar_items[toolbar_ind][2];\n",
       "        var method_name = mpl.toolbar_items[toolbar_ind][3];\n",
       "\n",
       "        if (!name) { continue; };\n",
       "\n",
       "        var button = $('<button class=\"btn btn-default\" href=\"#\" title=\"' + name + '\"><i class=\"fa ' + image + ' fa-lg\"></i></button>');\n",
       "        button.click(method_name, toolbar_event);\n",
       "        button.mouseover(tooltip, toolbar_mouse_event);\n",
       "        nav_element.append(button);\n",
       "    }\n",
       "\n",
       "    // Add the status bar.\n",
       "    var status_bar = $('<span class=\"mpl-message\" style=\"text-align:right; float: right;\"/>');\n",
       "    nav_element.append(status_bar);\n",
       "    this.message = status_bar[0];\n",
       "\n",
       "    // Add the close button to the window.\n",
       "    var buttongrp = $('<div class=\"btn-group inline pull-right\"></div>');\n",
       "    var button = $('<button class=\"btn btn-mini btn-primary\" href=\"#\" title=\"Stop Interaction\"><i class=\"fa fa-power-off icon-remove icon-large\"></i></button>');\n",
       "    button.click(function (evt) { fig.handle_close(fig, {}); } );\n",
       "    button.mouseover('Stop Interaction', toolbar_mouse_event);\n",
       "    buttongrp.append(button);\n",
       "    var titlebar = this.root.find($('.ui-dialog-titlebar'));\n",
       "    titlebar.prepend(buttongrp);\n",
       "}\n",
       "\n",
       "mpl.figure.prototype._root_extra_style = function(el){\n",
       "    var fig = this\n",
       "    el.on(\"remove\", function(){\n",
       "\tfig.close_ws(fig, {});\n",
       "    });\n",
       "}\n",
       "\n",
       "mpl.figure.prototype._canvas_extra_style = function(el){\n",
       "    // this is important to make the div 'focusable\n",
       "    el.attr('tabindex', 0)\n",
       "    // reach out to IPython and tell the keyboard manager to turn it's self\n",
       "    // off when our div gets focus\n",
       "\n",
       "    // location in version 3\n",
       "    if (IPython.notebook.keyboard_manager) {\n",
       "        IPython.notebook.keyboard_manager.register_events(el);\n",
       "    }\n",
       "    else {\n",
       "        // location in version 2\n",
       "        IPython.keyboard_manager.register_events(el);\n",
       "    }\n",
       "\n",
       "}\n",
       "\n",
       "mpl.figure.prototype._key_event_extra = function(event, name) {\n",
       "    var manager = IPython.notebook.keyboard_manager;\n",
       "    if (!manager)\n",
       "        manager = IPython.keyboard_manager;\n",
       "\n",
       "    // Check for shift+enter\n",
       "    if (event.shiftKey && event.which == 13) {\n",
       "        this.canvas_div.blur();\n",
       "        // select the cell after this one\n",
       "        var index = IPython.notebook.find_cell_index(this.cell_info[0]);\n",
       "        IPython.notebook.select(index + 1);\n",
       "    }\n",
       "}\n",
       "\n",
       "mpl.figure.prototype.handle_save = function(fig, msg) {\n",
       "    fig.ondownload(fig, null);\n",
       "}\n",
       "\n",
       "\n",
       "mpl.find_output_cell = function(html_output) {\n",
       "    // Return the cell and output element which can be found *uniquely* in the notebook.\n",
       "    // Note - this is a bit hacky, but it is done because the \"notebook_saving.Notebook\"\n",
       "    // IPython event is triggered only after the cells have been serialised, which for\n",
       "    // our purposes (turning an active figure into a static one), is too late.\n",
       "    var cells = IPython.notebook.get_cells();\n",
       "    var ncells = cells.length;\n",
       "    for (var i=0; i<ncells; i++) {\n",
       "        var cell = cells[i];\n",
       "        if (cell.cell_type === 'code'){\n",
       "            for (var j=0; j<cell.output_area.outputs.length; j++) {\n",
       "                var data = cell.output_area.outputs[j];\n",
       "                if (data.data) {\n",
       "                    // IPython >= 3 moved mimebundle to data attribute of output\n",
       "                    data = data.data;\n",
       "                }\n",
       "                if (data['text/html'] == html_output) {\n",
       "                    return [cell, data, j];\n",
       "                }\n",
       "            }\n",
       "        }\n",
       "    }\n",
       "}\n",
       "\n",
       "// Register the function which deals with the matplotlib target/channel.\n",
       "// The kernel may be null if the page has been refreshed.\n",
       "if (IPython.notebook.kernel != null) {\n",
       "    IPython.notebook.kernel.comm_manager.register_target('matplotlib', mpl.mpl_figure_comm);\n",
       "}\n"
      ],
      "text/plain": [
       "<IPython.core.display.Javascript object>"
      ]
     },
     "metadata": {},
     "output_type": "display_data"
    },
    {
     "data": {
      "text/html": [
       "<img src=\"data:image/png;base64,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\">"
      ],
      "text/plain": [
       "<IPython.core.display.HTML object>"
      ]
     },
     "metadata": {},
     "output_type": "display_data"
    }
   ],
   "source": [
    "%matplotlib notebook\n",
    "#text6.dispersion_plot([\"knights\", 'ARTHUR', 'ROBIN', 'grail', 'lady',\"ni\"])\n",
    "#text1.dispersion_plot([\"Starbuck\", 'whale', 'Ahab', 'Ishmael', 'sea',\"death\"])\n",
    "text3.dispersion_plot([\"God\", \"apple\", \"garden\", \"woman\"])\n",
    "\n",
    "##Shows location of word in a text"
   ]
  },
  {
   "cell_type": "markdown",
   "metadata": {},
   "source": [
    "## Great!  I want to count things now!"
   ]
  },
  {
   "cell_type": "code",
   "execution_count": 15,
   "metadata": {
    "collapsed": false
   },
   "outputs": [
    {
     "name": "stdout",
     "output_type": "stream",
     "text": [
      "260819\n",
      "16967\n",
      "\n",
      "\n",
      "501\n",
      "36\n",
      "225\n"
     ]
    }
   ],
   "source": [
    "#How many words are in the texts?\n",
    "print len(text1)\n",
    "print len(text6)\n",
    "print \"\\n\"\n",
    "\n",
    "\n",
    "# How many times are particular words in the text?\n",
    "print text1.count(\"Ahab\")\n",
    "print text6.count(\"Arthur\")\n",
    "print text6.count(\"ARTHUR\")"
   ]
  },
  {
   "cell_type": "code",
   "execution_count": 19,
   "metadata": {
    "collapsed": false
   },
   "outputs": [
    {
     "name": "stdout",
     "output_type": "stream",
     "text": [
      "5.26073637273\n",
      "1.70297225518\n"
     ]
    }
   ],
   "source": [
    "## How can I get percentages of words in a text?\n",
    "print 100* text1.count(\"the\")/float(len(text1))\n",
    "\n",
    "print 100* text3.count(\"the\")/float(len(text2))"
   ]
  },
  {
   "cell_type": "markdown",
   "metadata": {},
   "source": [
    "## Frequency Distributions - because sometimes you want to know how frequently things appear in your texts"
   ]
  },
  {
   "cell_type": "code",
   "execution_count": 2,
   "metadata": {
    "collapsed": false,
    "scrolled": true
   },
   "outputs": [
    {
     "ename": "NameError",
     "evalue": "name 'text1' is not defined",
     "output_type": "error",
     "traceback": [
      "\u001b[0;31m---------------------------------------------------------------------------\u001b[0m",
      "\u001b[0;31mNameError\u001b[0m                                 Traceback (most recent call last)",
      "\u001b[0;32m<ipython-input-2-232f5358e3fa>\u001b[0m in \u001b[0;36m<module>\u001b[0;34m()\u001b[0m\n\u001b[1;32m      1\u001b[0m \u001b[1;32mfrom\u001b[0m \u001b[0mnltk\u001b[0m \u001b[1;32mimport\u001b[0m \u001b[0mFreqDist\u001b[0m\u001b[1;33m\u001b[0m\u001b[0m\n\u001b[0;32m----> 2\u001b[0;31m \u001b[0mfdist\u001b[0m \u001b[1;33m=\u001b[0m \u001b[0mFreqDist\u001b[0m\u001b[1;33m(\u001b[0m\u001b[0mtext1\u001b[0m\u001b[1;33m)\u001b[0m\u001b[1;33m\u001b[0m\u001b[0m\n\u001b[0m\u001b[1;32m      3\u001b[0m \u001b[1;31m#print fdist\u001b[0m\u001b[1;33m\u001b[0m\u001b[1;33m\u001b[0m\u001b[0m\n\u001b[1;32m      4\u001b[0m \u001b[1;33m\u001b[0m\u001b[0m\n\u001b[1;32m      5\u001b[0m \u001b[0mfdist\u001b[0m\u001b[1;33m.\u001b[0m\u001b[0mmost_common\u001b[0m\u001b[1;33m(\u001b[0m\u001b[1;36m100\u001b[0m\u001b[1;33m)\u001b[0m\u001b[1;33m\u001b[0m\u001b[0m\n",
      "\u001b[0;31mNameError\u001b[0m: name 'text1' is not defined"
     ]
    }
   ],
   "source": [
    "from nltk import FreqDist\n",
    "fdist = FreqDist(text1)\n",
    "#print fdist\n",
    "\n",
    "fdist.most_common(100)\n",
    "\n",
    "#fdist[\"whale\"]"
   ]
  },
  {
   "cell_type": "code",
   "execution_count": 1,
   "metadata": {
    "collapsed": true
   },
   "outputs": [],
   "source": [
    "fdist = [\"whale\"]"
   ]
  },
  {
   "cell_type": "markdown",
   "metadata": {},
   "source": [
    "### A happy chart from \"Natural Language Processing with Python\" (Bird, Klein & Loper)\n",
    "       # Example                                        #Description\n",
    "      \n",
    "    fdist = FreqDist(samples) \t   create a frequency distribution containing the given samples\n",
    "    fdist[sample] += 1 \t           increment the count for this sample\n",
    "    fdist['monstrous'] \t           count of the number of times a given sample occurred\n",
    "    fdist.freq('monstrous') \t   frequency of a given sample\n",
    "    fdist.N() \t                   total number of samples\n",
    "    fdist.most_common(n) \t       the n most common samples and their frequencies\n",
    "    for sample in fdist:           iterate over the samples\n",
    "    fdist.max() \t               sample with the greatest count\n",
    "    fdist.tabulate() \t           tabulate the frequency distribution\n",
    "    fdist.plot() \t               graphical plot of the frequency distribution\n",
    "    fdist.plot(cumulative=True) \tumulative plot of the frequency distribution\n",
    "    fdist1 |= fdist2 \t           update fdist1 with counts from fdist2\n",
    "    fdist1 < fdist2 \t test if samples in fdist1 occur less frequently than in fdist2"
   ]
  },
  {
   "cell_type": "markdown",
   "metadata": {},
   "source": [
    "## Frequency Distribution in Action!!\n",
    "Let's compare some more texts!"
   ]
  },
  {
   "cell_type": "code",
   "execution_count": 24,
   "metadata": {
    "collapsed": true
   },
   "outputs": [],
   "source": [
    "from nltk.corpus import brown"
   ]
  },
  {
   "cell_type": "code",
   "execution_count": 25,
   "metadata": {
    "collapsed": false
   },
   "outputs": [
    {
     "name": "stdout",
     "output_type": "stream",
     "text": [
      "adventure\n",
      "belles_lettres\n",
      "editorial\n",
      "fiction\n",
      "government\n",
      "hobbies\n",
      "humor\n",
      "learned\n",
      "lore\n",
      "mystery\n",
      "news\n",
      "religion\n",
      "reviews\n",
      "romance\n",
      "science_fiction\n"
     ]
    }
   ],
   "source": [
    "cats = brown.categories()\n",
    "for i in cats:\n",
    "    print i"
   ]
  },
  {
   "cell_type": "code",
   "execution_count": 26,
   "metadata": {
    "collapsed": true
   },
   "outputs": [
    {
     "name": "stdout",
     "output_type": "stream",
     "text": [
      "can: 94 79\n",
      "could: 87 195\n",
      "might: 38 51\n",
      "may: 93 11\n",
      "would: 246 247\n",
      "must: 53 46\n",
      "will: 389 49\n"
     ]
    }
   ],
   "source": [
    "news = brown.words(categories=[\"news\"])  #get all of the words from the \"news\" category\n",
    "romance = brown.words(categories=[\"romance\"]) # get all of the words from the \"romance\" category\n",
    "\n",
    "## Build some frequency distribution!!!! \n",
    "fdist_news = FreqDist(w.lower() for w in news)\n",
    "fdist_romance = FreqDist(w.lower() for w in romance)\n",
    "\n",
    "modals = [\"can\", \"could\", \"might\", \"may\", \"would\", \"must\", \"will\"]\n",
    "\n",
    "for m in modals:\n",
    "    print m +\":\", fdist_news[m], fdist_romance[m]\n",
    "    \n"
   ]
  },
  {
   "cell_type": "code",
   "execution_count": 29,
   "metadata": {
    "collapsed": false
   },
   "outputs": [
    {
     "name": "stdout",
     "output_type": "stream",
     "text": [
      "[u'They', u'neither', u'liked', u'nor', u'disliked', u'the', u'Old', u'Man', u'.']\n"
     ]
    }
   ],
   "source": [
    "romance_sent = brown.sents(categories=[\"romance\"])\n",
    "print romance_sent[0]"
   ]
  },
  {
   "cell_type": "markdown",
   "metadata": {},
   "source": [
    "## Tokenization and Part of Speech tagging"
   ]
  },
  {
   "cell_type": "code",
   "execution_count": 30,
   "metadata": {
    "collapsed": true
   },
   "outputs": [],
   "source": [
    "from nltk import word_tokenize\n",
    "from nltk import pos_tag"
   ]
  },
  {
   "cell_type": "code",
   "execution_count": 32,
   "metadata": {
    "collapsed": true
   },
   "outputs": [],
   "source": [
    "paragraph = \"Far out in the uncharted backwaters of the unfashionable end of the Western Spiral arm of the Galaxy lies\"\\\n",
    "\" a small unregarded yellow sun.  Orbiting this at a distance at roughly nintey-eight million miles is an utterly \"\\\n",
    "\"insignificant little blue-green planet whose ape-descended life forms are so amazingly primitive that they still think\" \\\n",
    "\"digital watches are a pretty neat idea.\""
   ]
  },
  {
   "cell_type": "code",
   "execution_count": 33,
   "metadata": {
    "collapsed": false
   },
   "outputs": [
    {
     "name": "stdout",
     "output_type": "stream",
     "text": [
      "Far out in the uncharted backwaters of the unfashionable end of the Western Spiral arm of the Galaxy lies a small unregarded yellow sun.  Orbiting this at a distance at roughly nintey-eight million miles is an utterly insignificant little blue-green planet whose ape-descended life forms are so amazingly primitive that they still thinkdigital watches are a pretty neat idea.\n"
     ]
    }
   ],
   "source": [
    "print paragraph"
   ]
  },
  {
   "cell_type": "code",
   "execution_count": 34,
   "metadata": {
    "collapsed": false
   },
   "outputs": [
    {
     "name": "stdout",
     "output_type": "stream",
     "text": [
      "['Far', 'out', 'in', 'the', 'uncharted', 'backwaters', 'of', 'the', 'unfashionable', 'end', 'of', 'the', 'Western', 'Spiral', 'arm', 'of', 'the', 'Galaxy', 'lies', 'a', 'small', 'unregarded', 'yellow', 'sun', '.', 'Orbiting', 'this', 'at', 'a', 'distance', 'at', 'roughly', 'nintey-eight', 'million', 'miles', 'is', 'an', 'utterly', 'insignificant', 'little', 'blue-green', 'planet', 'whose', 'ape-descended', 'life', 'forms', 'are', 'so', 'amazingly', 'primitive', 'that', 'they', 'still', 'thinkdigital', 'watches', 'are', 'a', 'pretty', 'neat', 'idea', '.']\n"
     ]
    }
   ],
   "source": [
    "p = word_tokenize(paragraph)\n",
    "print p"
   ]
  },
  {
   "cell_type": "code",
   "execution_count": 35,
   "metadata": {
    "collapsed": false
   },
   "outputs": [
    {
     "name": "stdout",
     "output_type": "stream",
     "text": [
      "[('Far', 'CD'), ('out', 'RP'), ('in', 'IN'), ('the', 'DT'), ('uncharted', 'JJ'), ('backwaters', 'NNS'), ('of', 'IN'), ('the', 'DT'), ('unfashionable', 'JJ'), ('end', 'NN'), ('of', 'IN'), ('the', 'DT'), ('Western', 'JJ'), ('Spiral', 'NNP'), ('arm', 'NN'), ('of', 'IN'), ('the', 'DT'), ('Galaxy', 'NNP'), ('lies', 'VBZ'), ('a', 'DT'), ('small', 'JJ'), ('unregarded', 'JJ'), ('yellow', 'JJ'), ('sun', 'NN'), ('.', '.'), ('Orbiting', 'VBG'), ('this', 'DT'), ('at', 'IN'), ('a', 'DT'), ('distance', 'NN'), ('at', 'IN'), ('roughly', 'RB'), ('nintey-eight', 'JJ'), ('million', 'CD'), ('miles', 'NNS'), ('is', 'VBZ'), ('an', 'DT'), ('utterly', 'JJ'), ('insignificant', 'JJ'), ('little', 'JJ'), ('blue-green', 'JJ'), ('planet', 'NN'), ('whose', 'WP$'), ('ape-descended', 'JJ'), ('life', 'NN'), ('forms', 'NNS'), ('are', 'VBP'), ('so', 'RB'), ('amazingly', 'RB'), ('primitive', 'VBP'), ('that', 'IN'), ('they', 'PRP'), ('still', 'RB'), ('thinkdigital', 'VBP'), ('watches', 'NNS'), ('are', 'VBP'), ('a', 'DT'), ('pretty', 'JJ'), ('neat', 'JJ'), ('idea', 'NN'), ('.', '.')]\n"
     ]
    }
   ],
   "source": [
    "paragraph_POS = pos_tag(p)\n",
    "print paragraph_POS"
   ]
  },
  {
   "cell_type": "markdown",
   "metadata": {},
   "source": [
    "## Ngrams"
   ]
  },
  {
   "cell_type": "code",
   "execution_count": 36,
   "metadata": {
    "collapsed": true
   },
   "outputs": [],
   "source": [
    "from nltk.util import ngrams"
   ]
  },
  {
   "cell_type": "code",
   "execution_count": 37,
   "metadata": {
    "collapsed": false
   },
   "outputs": [
    {
     "data": {
      "text/plain": [
       "<generator object ngrams at 0x000000001C5151B0>"
      ]
     },
     "execution_count": 37,
     "metadata": {},
     "output_type": "execute_result"
    }
   ],
   "source": [
    "bigrams = ngrams(p, 2)\n",
    "bigrams"
   ]
  },
  {
   "cell_type": "code",
   "execution_count": 38,
   "metadata": {
    "collapsed": false
   },
   "outputs": [
    {
     "name": "stdout",
     "output_type": "stream",
     "text": [
      "('Far', 'out')\n",
      "('out', 'in')\n",
      "('in', 'the')\n",
      "('the', 'uncharted')\n",
      "('uncharted', 'backwaters')\n",
      "('backwaters', 'of')\n",
      "('of', 'the')\n",
      "('the', 'unfashionable')\n",
      "('unfashionable', 'end')\n",
      "('end', 'of')\n",
      "('of', 'the')\n",
      "('the', 'Western')\n",
      "('Western', 'Spiral')\n",
      "('Spiral', 'arm')\n",
      "('arm', 'of')\n",
      "('of', 'the')\n",
      "('the', 'Galaxy')\n",
      "('Galaxy', 'lies')\n",
      "('lies', 'a')\n",
      "('a', 'small')\n",
      "('small', 'unregarded')\n",
      "('unregarded', 'yellow')\n",
      "('yellow', 'sun')\n",
      "('sun', '.')\n",
      "('.', 'Orbiting')\n",
      "('Orbiting', 'this')\n",
      "('this', 'at')\n",
      "('at', 'a')\n",
      "('a', 'distance')\n",
      "('distance', 'at')\n",
      "('at', 'roughly')\n",
      "('roughly', 'nintey-eight')\n",
      "('nintey-eight', 'million')\n",
      "('million', 'miles')\n",
      "('miles', 'is')\n",
      "('is', 'an')\n",
      "('an', 'utterly')\n",
      "('utterly', 'insignificant')\n",
      "('insignificant', 'little')\n",
      "('little', 'blue-green')\n",
      "('blue-green', 'planet')\n",
      "('planet', 'whose')\n",
      "('whose', 'ape-descended')\n",
      "('ape-descended', 'life')\n",
      "('life', 'forms')\n",
      "('forms', 'are')\n",
      "('are', 'so')\n",
      "('so', 'amazingly')\n",
      "('amazingly', 'primitive')\n",
      "('primitive', 'that')\n",
      "('that', 'they')\n",
      "('they', 'still')\n",
      "('still', 'thinkdigital')\n",
      "('thinkdigital', 'watches')\n",
      "('watches', 'are')\n",
      "('are', 'a')\n",
      "('a', 'pretty')\n",
      "('pretty', 'neat')\n",
      "('neat', 'idea')\n",
      "('idea', '.')\n"
     ]
    }
   ],
   "source": [
    "for b in bigrams:\n",
    "    print(b)"
   ]
  },
  {
   "cell_type": "code",
   "execution_count": 39,
   "metadata": {
    "collapsed": false
   },
   "outputs": [
    {
     "name": "stdout",
     "output_type": "stream",
     "text": [
      "('Far', 'out', 'in')\n",
      "('out', 'in', 'the')\n",
      "('in', 'the', 'uncharted')\n",
      "('the', 'uncharted', 'backwaters')\n",
      "('uncharted', 'backwaters', 'of')\n",
      "('backwaters', 'of', 'the')\n",
      "('of', 'the', 'unfashionable')\n",
      "('the', 'unfashionable', 'end')\n",
      "('unfashionable', 'end', 'of')\n",
      "('end', 'of', 'the')\n",
      "('of', 'the', 'Western')\n",
      "('the', 'Western', 'Spiral')\n",
      "('Western', 'Spiral', 'arm')\n",
      "('Spiral', 'arm', 'of')\n",
      "('arm', 'of', 'the')\n",
      "('of', 'the', 'Galaxy')\n",
      "('the', 'Galaxy', 'lies')\n",
      "('Galaxy', 'lies', 'a')\n",
      "('lies', 'a', 'small')\n",
      "('a', 'small', 'unregarded')\n",
      "('small', 'unregarded', 'yellow')\n",
      "('unregarded', 'yellow', 'sun')\n",
      "('yellow', 'sun', '.')\n",
      "('sun', '.', 'Orbiting')\n",
      "('.', 'Orbiting', 'this')\n",
      "('Orbiting', 'this', 'at')\n",
      "('this', 'at', 'a')\n",
      "('at', 'a', 'distance')\n",
      "('a', 'distance', 'at')\n",
      "('distance', 'at', 'roughly')\n",
      "('at', 'roughly', 'nintey-eight')\n",
      "('roughly', 'nintey-eight', 'million')\n",
      "('nintey-eight', 'million', 'miles')\n",
      "('million', 'miles', 'is')\n",
      "('miles', 'is', 'an')\n",
      "('is', 'an', 'utterly')\n",
      "('an', 'utterly', 'insignificant')\n",
      "('utterly', 'insignificant', 'little')\n",
      "('insignificant', 'little', 'blue-green')\n",
      "('little', 'blue-green', 'planet')\n",
      "('blue-green', 'planet', 'whose')\n",
      "('planet', 'whose', 'ape-descended')\n",
      "('whose', 'ape-descended', 'life')\n",
      "('ape-descended', 'life', 'forms')\n",
      "('life', 'forms', 'are')\n",
      "('forms', 'are', 'so')\n",
      "('are', 'so', 'amazingly')\n",
      "('so', 'amazingly', 'primitive')\n",
      "('amazingly', 'primitive', 'that')\n",
      "('primitive', 'that', 'they')\n",
      "('that', 'they', 'still')\n",
      "('they', 'still', 'thinkdigital')\n",
      "('still', 'thinkdigital', 'watches')\n",
      "('thinkdigital', 'watches', 'are')\n",
      "('watches', 'are', 'a')\n",
      "('are', 'a', 'pretty')\n",
      "('a', 'pretty', 'neat')\n",
      "('pretty', 'neat', 'idea')\n",
      "('neat', 'idea', '.')\n"
     ]
    }
   ],
   "source": [
    "trigrams = ngrams(p, 3)\n",
    "for t in trigrams:\n",
    "    print(t)"
   ]
  },
  {
   "cell_type": "markdown",
   "metadata": {
    "collapsed": true
   },
   "source": [
    "## Let us know what you think!\n",
    "We want to know what you think of our workshop!  Please let us know in this quick survey\n",
    "\n",
    "`tinyurl.com/gcdfworkshop`"
   ]
  },
  {
   "cell_type": "code",
   "execution_count": null,
   "metadata": {
    "collapsed": true
   },
   "outputs": [],
   "source": []
  }
 ],
 "metadata": {
  "anaconda-cloud": {},
  "kernelspec": {
   "display_name": "Python [conda root]",
   "language": "python",
   "name": "conda-root-py"
  },
  "language_info": {
   "codemirror_mode": {
    "name": "ipython",
    "version": 2
   },
   "file_extension": ".py",
   "mimetype": "text/x-python",
   "name": "python",
   "nbconvert_exporter": "python",
   "pygments_lexer": "ipython2",
   "version": "2.7.12"
  }
 },
 "nbformat": 4,
 "nbformat_minor": 1
}
